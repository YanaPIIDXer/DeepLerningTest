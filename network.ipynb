{
 "cells": [
  {
   "cell_type": "code",
   "execution_count": null,
   "id": "unlikely-cabinet",
   "metadata": {},
   "outputs": [],
   "source": [
    "import numpy as np\n",
    "import matplotlib.pyplot as plt"
   ]
  },
  {
   "cell_type": "markdown",
   "id": "statutory-sweden",
   "metadata": {},
   "source": [
    "# ニューラルネットワーク"
   ]
  },
  {
   "cell_type": "markdown",
   "id": "fifth-jackson",
   "metadata": {},
   "source": [
    "## 活性化関数\n",
    "- 入力信号の総和を出力信号に変換する関数のこと"
   ]
  },
  {
   "cell_type": "markdown",
   "id": "scheduled-budapest",
   "metadata": {},
   "source": [
    "### ステップ関数\n",
    "閾値を境にして出力を切り替える関数の事。\n",
    "$$\n",
    "h(x) = \\begin{cases}\n",
    "           0 \\quad x \\leqq 0 \\\\\n",
    "           1 \\quad x > 0 \\\\\n",
    "       \\end{cases}\n",
    "$$"
   ]
  },
  {
   "cell_type": "code",
   "execution_count": null,
   "id": "aware-satellite",
   "metadata": {},
   "outputs": [],
   "source": [
    "def step_func(x):\n",
    "    y = x > 0\n",
    "    return y.astype(int)"
   ]
  },
  {
   "cell_type": "code",
   "execution_count": null,
   "id": "normal-tuesday",
   "metadata": {},
   "outputs": [],
   "source": [
    "x = np.array([-1.0, 0.1, 1.0])\n",
    "y = step_func(x)\n",
    "y"
   ]
  },
  {
   "cell_type": "markdown",
   "id": "molecular-absence",
   "metadata": {},
   "source": [
    "### シグモイド関数\n",
    "生物の神経細胞が持つ特性をモデル化したもの\n",
    "$$\n",
    "h(x) = \\frac{1}{1+\\exp(-x)}\n",
    "$$"
   ]
  },
  {
   "cell_type": "code",
   "execution_count": null,
   "id": "viral-milton",
   "metadata": {},
   "outputs": [],
   "source": [
    "def sigmoid_func(x):\n",
    "    return 1 / (1 + np.exp(-x))"
   ]
  },
  {
   "cell_type": "code",
   "execution_count": null,
   "id": "every-stereo",
   "metadata": {},
   "outputs": [],
   "source": [
    "x = np.array([-1.0, 0.1, 1.0])\n",
    "y = sigmoid_func(x)\n",
    "y"
   ]
  },
  {
   "cell_type": "code",
   "execution_count": null,
   "id": "unique-scientist",
   "metadata": {},
   "outputs": [],
   "source": [
    "# それぞれのプロット\n",
    "x = np.arange(-5.0, 5.0, 0.1)\n",
    "step_y = step_func(x)\n",
    "sigmoid_y = sigmoid_func(x)\n",
    "plt.plot(x, step_y, label = \"Step\", color = \"blue\")\n",
    "plt.plot(x, sigmoid_y, label = \"Sigmoid\", color = \"red\")\n",
    "plt.ylim(-0.1, 1.1)\n",
    "plt.legend()\n",
    "plt.show()"
   ]
  },
  {
   "cell_type": "markdown",
   "id": "narrow-martial",
   "metadata": {},
   "source": [
    "## 3層ニューラルネットワークの実装"
   ]
  },
  {
   "cell_type": "code",
   "execution_count": null,
   "id": "ignored-allocation",
   "metadata": {},
   "outputs": [],
   "source": [
    "def init_network():\n",
    "    network = {}\n",
    "    network[\"W1\"] = np.array([[0.1, 0.3, 0.5], [0.2, 0.4, 0.6]])\n",
    "    network[\"b1\"] = np.array([0.1, 0.2, 0.3])\n",
    "    network[\"W2\"] = np.array([[0.1, 0.4], [0.2, 0.5], [0.3, 0.6]])\n",
    "    network[\"b2\"] = np.array([0.1, 0.2])\n",
    "    network[\"W3\"] = np.array([[0.1, 0.3], [0.2, 0.4]])\n",
    "    network[\"b3\"] = np.array([0.1, 0.2])\n",
    "    return network\n",
    "\n",
    "def forward(network, x):\n",
    "    W1, W2, W3 = network[\"W1\"], network[\"W2\"], network[\"W3\"]\n",
    "    b1, b2, b3 = network[\"b1\"], network[\"b2\"], network[\"b3\"]\n",
    "    \n",
    "    a1 = np.dot(x, W1) + b1\n",
    "    z1 = sigmoid_func(a1)\n",
    "    a2 = np.dot(z1, W2) + b2\n",
    "    z2 = sigmoid_func(a2)\n",
    "    a3 = np.dot(z2, W3) + b3\n",
    "    y = a3\n",
    "    \n",
    "    return y\n",
    "\n",
    "network = init_network()\n",
    "x = np.array([1.0, 0.5])\n",
    "y = forward(network, x)\n",
    "y"
   ]
  },
  {
   "cell_type": "code",
   "execution_count": null,
   "id": "preceding-charter",
   "metadata": {},
   "outputs": [],
   "source": []
  }
 ],
 "metadata": {
  "kernelspec": {
   "display_name": "Python 3",
   "language": "python",
   "name": "python3"
  },
  "language_info": {
   "codemirror_mode": {
    "name": "ipython",
    "version": 3
   },
   "file_extension": ".py",
   "mimetype": "text/x-python",
   "name": "python",
   "nbconvert_exporter": "python",
   "pygments_lexer": "ipython3",
   "version": "3.9.1"
  }
 },
 "nbformat": 4,
 "nbformat_minor": 5
}
